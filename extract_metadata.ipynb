{
 "cells": [
  {
   "cell_type": "raw",
   "id": "13787398-3a81-4eeb-a613-1cca6cdf96d6",
   "metadata": {},
   "source": [
    "# To-Do\n",
    "## extract meta-data from file\n",
    "## find meta-data file in folder\n",
    "## merge with cleaned csv file"
   ]
  },
  {
   "cell_type": "code",
   "execution_count": 1,
   "id": "7b69c1d1-a4a3-4df6-9145-b04987ebf873",
   "metadata": {},
   "outputs": [],
   "source": [
    "import pandas as pd"
   ]
  },
  {
   "cell_type": "code",
   "execution_count": 3,
   "id": "eb476fdd-dd20-4473-8ab6-2c22744f7428",
   "metadata": {},
   "outputs": [],
   "source": [
    "def extract_metadata(xml_file):\n",
    "    pass\n",
    "\n",
    "def read_path(csv_file):\n",
    "    df = pd.read_csv(csv_file, encoding='utf-8')\n",
    "    return df\n"
   ]
  },
  {
   "cell_type": "code",
   "execution_count": 4,
   "id": "a563163a-fe0e-4079-b0fe-9b62aad11d6f",
   "metadata": {},
   "outputs": [
    {
     "data": {
      "text/html": [
       "<div>\n",
       "<style scoped>\n",
       "    .dataframe tbody tr th:only-of-type {\n",
       "        vertical-align: middle;\n",
       "    }\n",
       "\n",
       "    .dataframe tbody tr th {\n",
       "        vertical-align: top;\n",
       "    }\n",
       "\n",
       "    .dataframe thead th {\n",
       "        text-align: right;\n",
       "    }\n",
       "</style>\n",
       "<table border=\"1\" class=\"dataframe\">\n",
       "  <thead>\n",
       "    <tr style=\"text-align: right;\">\n",
       "      <th></th>\n",
       "      <th>Image_Id</th>\n",
       "      <th>Path</th>\n",
       "    </tr>\n",
       "  </thead>\n",
       "  <tbody>\n",
       "    <tr>\n",
       "      <th>0</th>\n",
       "      <td>0</td>\n",
       "      <td>unziped_02_dec/tx_7724/29028/images/Tuexen_772...</td>\n",
       "    </tr>\n",
       "    <tr>\n",
       "      <th>1</th>\n",
       "      <td>1</td>\n",
       "      <td>unziped_02_dec/tx_7724/29028/images/Tuexen_772...</td>\n",
       "    </tr>\n",
       "    <tr>\n",
       "      <th>2</th>\n",
       "      <td>2</td>\n",
       "      <td>unziped_02_dec/tx_7724/29028/images/Tuexen_772...</td>\n",
       "    </tr>\n",
       "    <tr>\n",
       "      <th>3</th>\n",
       "      <td>3</td>\n",
       "      <td>unziped_02_dec/tx_7724/29028/images/Tuexen_772...</td>\n",
       "    </tr>\n",
       "    <tr>\n",
       "      <th>4</th>\n",
       "      <td>4</td>\n",
       "      <td>unziped_02_dec/tx_7963/29039/images/Tuexen_796...</td>\n",
       "    </tr>\n",
       "  </tbody>\n",
       "</table>\n",
       "</div>"
      ],
      "text/plain": [
       "   Image_Id                                               Path\n",
       "0         0  unziped_02_dec/tx_7724/29028/images/Tuexen_772...\n",
       "1         1  unziped_02_dec/tx_7724/29028/images/Tuexen_772...\n",
       "2         2  unziped_02_dec/tx_7724/29028/images/Tuexen_772...\n",
       "3         3  unziped_02_dec/tx_7724/29028/images/Tuexen_772...\n",
       "4         4  unziped_02_dec/tx_7963/29039/images/Tuexen_796..."
      ]
     },
     "execution_count": 4,
     "metadata": {},
     "output_type": "execute_result"
    }
   ],
   "source": [
    "df = read_path('./local_data/table_list_02_dec1.csv')\n",
    "df.head()"
   ]
  },
  {
   "cell_type": "code",
   "execution_count": null,
   "id": "88a67bd9-9851-4c60-a00f-6f6841322c47",
   "metadata": {},
   "outputs": [],
   "source": []
  }
 ],
 "metadata": {
  "kernelspec": {
   "display_name": "Python 3 (ipykernel)",
   "language": "python",
   "name": "python3"
  },
  "language_info": {
   "codemirror_mode": {
    "name": "ipython",
    "version": 3
   },
   "file_extension": ".py",
   "mimetype": "text/x-python",
   "name": "python",
   "nbconvert_exporter": "python",
   "pygments_lexer": "ipython3",
   "version": "3.12.1"
  }
 },
 "nbformat": 4,
 "nbformat_minor": 5
}
