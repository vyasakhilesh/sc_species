{
 "cells": [
  {
   "cell_type": "markdown",
   "id": "54e255e5-41bf-4ec0-b663-eb6247e323cb",
   "metadata": {},
   "source": [
    "### To-Do\n",
    "- csv file c1(csv file id) and c2 (meta file location)\n",
    "- extract meta-data from file\n",
    "- enriched csv file with metadata\n",
    "- create EML file from metadata xml file"
   ]
  },
  {
   "cell_type": "code",
   "execution_count": 1,
   "id": "7b69c1d1-a4a3-4df6-9145-b04987ebf873",
   "metadata": {},
   "outputs": [],
   "source": [
    "import pandas as pd\n",
    "import numpy as np\n",
    "pd.options.display.max_colwidth=0"
   ]
  },
  {
   "cell_type": "code",
   "execution_count": 2,
   "id": "eb476fdd-dd20-4473-8ab6-2c22744f7428",
   "metadata": {},
   "outputs": [],
   "source": [
    "def extract_metadata(xml_file):\n",
    "    pass\n",
    "    \n",
    "\n",
    "def read_path(csv_file):\n",
    "    df = pd.read_csv(csv_file, encoding='utf-8')\n",
    "    return df\n",
    "\n",
    "def set_meta_file_path(path):\n",
    "    path = path.split('images/')[0]\n",
    "    return path+'meta.xml'\n",
    "    \n"
   ]
  },
  {
   "cell_type": "code",
   "execution_count": 3,
   "id": "a563163a-fe0e-4079-b0fe-9b62aad11d6f",
   "metadata": {},
   "outputs": [],
   "source": [
    "df_imageId_metapath = read_path('./local_data/imageId_metapath.csv')\n",
    "df_imageId_metapath['MetaFile'] = df_imageId_metapath['Path'].apply(set_meta_file_path)\n",
    "df_imageId_metapath.sort_values(by='MetaFile',inplace=True)"
   ]
  },
  {
   "cell_type": "code",
   "execution_count": 4,
   "id": "88a67bd9-9851-4c60-a00f-6f6841322c47",
   "metadata": {
    "scrolled": true
   },
   "outputs": [
    {
     "data": {
      "text/plain": [
       "{'unziped_02_dec/tx_7397/28978/meta.xml': {},\n",
       " 'unziped_02_dec/tx_7407/28981/meta.xml': {},\n",
       " 'unziped_02_dec/tx_7423/28986/meta.xml': {},\n",
       " 'unziped_02_dec/tx_7426/28987/meta.xml': {},\n",
       " 'unziped_02_dec/tx_7447/28988/meta.xml': {},\n",
       " 'unziped_02_dec/tx_7454/28990/meta.xml': {},\n",
       " 'unziped_02_dec/tx_7462/28991/meta.xml': {},\n",
       " 'unziped_02_dec/tx_7464/28992/meta.xml': {},\n",
       " 'unziped_02_dec/tx_7465/28993/meta.xml': {},\n",
       " 'unziped_02_dec/tx_7467/28994/meta.xml': {},\n",
       " 'unziped_02_dec/tx_7483/28997/meta.xml': {},\n",
       " 'unziped_02_dec/tx_7484/28998/meta.xml': {},\n",
       " 'unziped_02_dec/tx_7487/29001/meta.xml': {},\n",
       " 'unziped_02_dec/tx_7493/29002/meta.xml': {},\n",
       " 'unziped_02_dec/tx_7498/29003/meta.xml': {},\n",
       " 'unziped_02_dec/tx_7518/29005/meta.xml': {},\n",
       " 'unziped_02_dec/tx_7533/29008/meta.xml': {},\n",
       " 'unziped_02_dec/tx_7549/29009/meta.xml': {},\n",
       " 'unziped_02_dec/tx_7595/29013/meta.xml': {},\n",
       " 'unziped_02_dec/tx_7608/29014/meta.xml': {},\n",
       " 'unziped_02_dec/tx_7609/29015/meta.xml': {},\n",
       " 'unziped_02_dec/tx_7636/29016/meta.xml': {},\n",
       " 'unziped_02_dec/tx_7637/29017/meta.xml': {},\n",
       " 'unziped_02_dec/tx_7638/29018/meta.xml': {},\n",
       " 'unziped_02_dec/tx_7663/29019/meta.xml': {},\n",
       " 'unziped_02_dec/tx_7674/29020/meta.xml': {},\n",
       " 'unziped_02_dec/tx_7676/29021/meta.xml': {},\n",
       " 'unziped_02_dec/tx_7678/29022/meta.xml': {},\n",
       " 'unziped_02_dec/tx_7687/29023/meta.xml': {},\n",
       " 'unziped_02_dec/tx_7705/29024/meta.xml': {},\n",
       " 'unziped_02_dec/tx_7708/29025/meta.xml': {},\n",
       " 'unziped_02_dec/tx_7714/29026/meta.xml': {},\n",
       " 'unziped_02_dec/tx_7716/29027/meta.xml': {},\n",
       " 'unziped_02_dec/tx_7724/29028/meta.xml': {},\n",
       " 'unziped_02_dec/tx_7787/29030/meta.xml': {},\n",
       " 'unziped_02_dec/tx_7812/29031/meta.xml': {},\n",
       " 'unziped_02_dec/tx_7817/29032/meta.xml': {},\n",
       " 'unziped_02_dec/tx_7828/29033/meta.xml': {},\n",
       " 'unziped_02_dec/tx_7870/29034/meta.xml': {},\n",
       " 'unziped_02_dec/tx_7940/29036/meta.xml': {},\n",
       " 'unziped_02_dec/tx_7942/29037/meta.xml': {},\n",
       " 'unziped_02_dec/tx_7963/29039/meta.xml': {},\n",
       " 'unziped_02_dec/tx_7964/29040/meta.xml': {},\n",
       " 'unziped_02_dec/tx_7965/29041/meta.xml': {},\n",
       " 'unziped_02_dec/tx_7966/29042/meta.xml': {},\n",
       " 'unziped_02_dec/tx_7967/29043/meta.xml': {},\n",
       " 'unziped_02_dec/tx_7971/29046/meta.xml': {},\n",
       " 'unziped_02_dec/tx_7972/29047/meta.xml': {},\n",
       " 'unziped_02_dec/tx_7974/29048/meta.xml': {},\n",
       " 'unziped_02_dec/tx_7975/29049/meta.xml': {},\n",
       " 'unziped_02_dec/tx_7977/29050/meta.xml': {},\n",
       " 'unziped_02_dec/tx_7978/29051/meta.xml': {},\n",
       " 'unziped_02_dec/tx_7983/29053/meta.xml': {},\n",
       " 'unziped_02_dec/tx_7988/29054/meta.xml': {},\n",
       " 'unziped_02_dec/tx_7999/29055/meta.xml': {},\n",
       " 'unziped_02_dec/tx_8001/29056/meta.xml': {},\n",
       " 'unziped_02_dec/tx_8008/29057/meta.xml': {},\n",
       " 'unziped_02_dec/tx_8012/29058/meta.xml': {},\n",
       " 'unziped_02_dec/tx_8093/29064/meta.xml': {},\n",
       " 'unziped_02_dec/tx_8095/29065/meta.xml': {},\n",
       " 'unziped_02_dec/tx_8099/29066/meta.xml': {},\n",
       " 'unziped_02_dec/tx_8103/29068/meta.xml': {},\n",
       " 'unziped_02_dec/tx_8115/29069/meta.xml': {},\n",
       " 'unziped_02_dec/tx_8116/29070/meta.xml': {},\n",
       " 'unziped_02_dec/tx_8156/29073/meta.xml': {},\n",
       " 'unziped_02_dec/tx_8157/29074/meta.xml': {},\n",
       " 'unziped_02_dec/tx_8161/29076/meta.xml': {},\n",
       " 'unziped_02_dec/tx_8162/29077/meta.xml': {},\n",
       " 'unziped_02_dec/tx_8222/29081/meta.xml': {},\n",
       " 'unziped_02_dec/tx_8248/29082/meta.xml': {},\n",
       " 'unziped_02_dec/tx_8249/29083/meta.xml': {},\n",
       " 'unziped_02_dec/tx_8253/29084/meta.xml': {},\n",
       " 'unziped_02_dec/tx_8257/29085/meta.xml': {},\n",
       " 'unziped_02_dec/tx_8338/29088/meta.xml': {},\n",
       " 'unziped_02_dec/tx_8369/29090/meta.xml': {}}"
      ]
     },
     "execution_count": 4,
     "metadata": {},
     "output_type": "execute_result"
    }
   ],
   "source": [
    "metafile_path_data_dict = {i:{} for i in df_imageId_metapath['MetaFile'].unique().tolist()}\n",
    "metafile_path_data_dict"
   ]
  },
  {
   "cell_type": "raw",
   "id": "33c8dce8-9ddb-456f-b1c9-874b7a8227eb",
   "metadata": {
    "scrolled": true
   },
   "source": [
    "import xml.etree.ElementTree as ET\n",
    "# Replace `path/to/xml.xml` with the actual path to your XML file\n",
    "tree = ET.parse('./local_data/sample_metadata/meta.xml')\n",
    "root = tree.getroot()\n",
    "\n",
    "for element in root.iter():\n",
    "    for m in element.findall('goobi:metadata', namespaces={\"goobi\":\"http://meta.goobi.org/v1.5.1/\"}):\n",
    "        print(f\"Tag: {m.tag} Field: {m.attrib.get('name')} Text: {m.text}\")"
   ]
  },
  {
   "cell_type": "code",
   "execution_count": 5,
   "id": "400023be-81e6-4a5f-b8aa-67baa0562f46",
   "metadata": {
    "scrolled": true
   },
   "outputs": [
    {
     "name": "stdout",
     "output_type": "stream",
     "text": [
      "{'eventDate': 'PublicationYear', 'year': 'PublicationYear', 'publicationYear': 'PublicationYear', 'title': 'TitleDocMain', 'publicationTitle': 'TitleDocMain', 'catalogNumber': 'TxID', 'language': 'DocLanguage', 'collectionCode': 'singleDigCollection', 'publicationAuthors': 'TxAuthor', 'parentCollectionIdentifier': 'singleDigCollection', 'collectionIdentifier': 'CatalogIDDigital', 'authorityURI': 'authorityURI', 'authorityValue': 'authorityValue'}\n"
     ]
    }
   ],
   "source": [
    "\"\"\"('AdditionalNotes', 'Sonderabdruck aus, Decheniana, Verhandlungen des Naturhistorischen Vereins der Rheinlande und Westfalens, Band 101 A B'),\n",
    "   'PlaceOfPublication', 'Bonn',\n",
    "   'PublisherName', 'Hch. Ludwig',\n",
    "   'TxMainLanguage', 'german',\n",
    "   'TxType', 'book',\n",
    "   'TxSpeciesData', 'yes',\n",
    "   'TxFormat', 'A4',\n",
    "   'SizeSourcePrint', 'Seiten 131-214g, L1-L18',\n",
    "   'Illustration', 'Diagramme',\n",
    "   'pathimagefiles', './images/',\n",
    "   '_representative', '1',\n",
    "   'Author', {'type', 'person',\n",
    "             'lastName', 'Budde',\n",
    "             'firstName', 'Hermann',\n",
    "             'authorityID', 'gnd',\n",
    "             'authorityURI', 'http,//d-nb.info/gnd/',\n",
    "             'authorityValue', 1028522606,\n",
    "             'displayName', 'Budde, Hermann'}}\"\"\"\n",
    "\n",
    "\n",
    "mappping_metaxml_to_eml_list = [('PublicationYear', 'eventDate'), \n",
    "                                 ('PublicationYear', 'year'), \n",
    "                                  ('PublicationYear', 'publicationYear'),\n",
    "                                 ('TitleDocMain', 'title'),('TitleDocMain', 'publicationTitle'), \n",
    "                                  ('TxID','catalogNumber'), ('DocLanguage', 'language'),\n",
    "                                  ('singleDigCollection', 'collectionCode'), ('TxAuthor','publicationAuthors'),\n",
    "                                  ('singleDigCollection', 'parentCollectionIdentifier'), \n",
    "                                 ('CatalogIDDigital', 'collectionIdentifier'), ('authorityURI', 'authorityURI'), \n",
    "                                  ('authorityValue', 'authorityValue'),]\n",
    "\n",
    "mappping_metaxml_to_eml_dict = {i[1]:i[0] for i in mappping_metaxml_to_eml_list}\n",
    "\n",
    "print (mappping_metaxml_to_eml_dict)\n",
    "\n",
    "def remove_null_values_from_nested_dict(nested_dict):\n",
    "    if not isinstance(nested_dict, dict):\n",
    "        return nested_dict\n",
    "\n",
    "    new_dict = {}\n",
    "    for key, value in nested_dict.items():\n",
    "        if value is not None and not isinstance(value, dict) and not value!=value:\n",
    "            if type(value)==float:\n",
    "                value = int(value)\n",
    "            new_dict[key] = value\n",
    "        elif isinstance(value, dict):\n",
    "            if type(value)==float:\n",
    "                value = int(value)\n",
    "            new_dict[key] = remove_null_values_from_nested_dict(value)\n",
    "\n",
    "    return new_dict\n",
    "\n",
    "\n",
    "\n",
    "# Getting metadata from all metafiles for imageId_metapath file\n",
    "for key, value in metafile_path_data_dict.items():\n",
    "    # ToDo -------- Temporary Path -------------\n",
    "    key ='./local_data/metadata/meta.xml'\n",
    "    df_meta_file = pd.read_xml(path_or_buffer=key, xpath=\"//goobi:metadata\",\n",
    "                      namespaces={\"goobi\":\"http://meta.goobi.org/v1.5.1/\"})\n",
    "    df_meta_file.set_index(keys='name', inplace=True)\n",
    "    df_meta_file = df_meta_file[~df_meta_file.index.duplicated()]\n",
    "    dict_metadata = df_meta_file.to_dict()\n",
    "    new_dict = {}\n",
    "    new_dict['metadata'] = remove_null_values_from_nested_dict(df_meta_file['metadata'].to_dict())\n",
    "    new_dict['Author'] = remove_null_values_from_nested_dict(df_meta_file.loc['Author'].to_dict())\n",
    "    # metafile_path_data_dict[key]=new_dict\n",
    "\n",
    "    new_dict1 = {}\n",
    "    for k, v in new_dict.items():\n",
    "        # print (new_dict)\n",
    "        k1_v1_dict = {k1:v1 for k1, v1 in new_dict[k].items() if k1 in mappping_metaxml_to_eml_dict.values()}\n",
    "        # print(k1_v1_dict)\n",
    "        new_dict1.update({k2:k1_v1_dict[k1] for k2, k1 in mappping_metaxml_to_eml_dict.items() if k1 in k1_v1_dict.keys()})\n",
    "    metafile_path_data_dict[key] = new_dict1\n",
    "    # Todo -------- Remove Break ----------------\n",
    "    break\n",
    "\n",
    "\n",
    "df_meta = pd.DataFrame.from_dict(metafile_path_data_dict, orient='index' ).reset_index()\n",
    "## temporary testing\n",
    "df_meta.loc[0,'index']='unziped_02_dec/tx_7487/29001/meta.xml'\n",
    "# print(df_meta)\n",
    "df = df_imageId_metapath.merge(df_meta, left_on='MetaFile', right_on='index', how='left')\n",
    "df.to_csv('./local_data/imageId_metapath_metadata.csv', encoding='Utf', index=False)"
   ]
  },
  {
   "cell_type": "code",
   "execution_count": 6,
   "id": "07bb5a6d-5570-40e6-9d6d-89b6861d1717",
   "metadata": {},
   "outputs": [
    {
     "data": {
      "text/plain": [
       "Image_Id                      int64  \n",
       "Path                          object \n",
       "MetaFile                      object \n",
       "index                         object \n",
       "eventDate                     object \n",
       "year                          object \n",
       "publicationYear               object \n",
       "title                         object \n",
       "publicationTitle              object \n",
       "catalogNumber                 object \n",
       "language                      object \n",
       "collectionCode                object \n",
       "publicationAuthors            object \n",
       "parentCollectionIdentifier    object \n",
       "collectionIdentifier          object \n",
       "authorityURI                  object \n",
       "authorityValue                float64\n",
       "dtype: object"
      ]
     },
     "execution_count": 6,
     "metadata": {},
     "output_type": "execute_result"
    }
   ],
   "source": [
    "df.dtypes"
   ]
  },
  {
   "cell_type": "code",
   "execution_count": null,
   "id": "01be4c21-b4c0-4e23-a824-45786a8d038b",
   "metadata": {},
   "outputs": [],
   "source": []
  },
  {
   "cell_type": "code",
   "execution_count": null,
   "id": "2ac3e832-4f15-402b-9d31-8460cb5a1763",
   "metadata": {},
   "outputs": [],
   "source": []
  }
 ],
 "metadata": {
  "kernelspec": {
   "display_name": "Python 3 (ipykernel)",
   "language": "python",
   "name": "python3"
  },
  "language_info": {
   "codemirror_mode": {
    "name": "ipython",
    "version": 3
   },
   "file_extension": ".py",
   "mimetype": "text/x-python",
   "name": "python",
   "nbconvert_exporter": "python",
   "pygments_lexer": "ipython3",
   "version": "3.12.1"
  }
 },
 "nbformat": 4,
 "nbformat_minor": 5
}
