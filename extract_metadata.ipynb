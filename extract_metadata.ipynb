{
 "cells": [
  {
   "cell_type": "markdown",
   "id": "54e255e5-41bf-4ec0-b663-eb6247e323cb",
   "metadata": {},
   "source": [
    "### To-Do\n",
    "- csv file c1(csv file id) and c2 (meta file location)\n",
    "- extract meta-data from file\n",
    "- enriched csv file with metadata\n",
    "- create EML file from metadata xml file"
   ]
  },
  {
   "cell_type": "code",
   "execution_count": 1,
   "id": "7b69c1d1-a4a3-4df6-9145-b04987ebf873",
   "metadata": {},
   "outputs": [],
   "source": [
    "import pandas as pd\n",
    "import numpy as np\n",
    "pd.options.display.max_colwidth=0"
   ]
  },
  {
   "cell_type": "code",
   "execution_count": 4,
   "id": "b3a9e266-bc33-41d8-8218-e71fdacdb87e",
   "metadata": {},
   "outputs": [
    {
     "name": "stdout",
     "output_type": "stream",
     "text": [
      "./local_data/table_list/02_dec\n",
      "./local_data/table_list/05_dec\n",
      "./local_data/table_list/06_jul\n"
     ]
    }
   ],
   "source": [
    "def txt_csv(txt_file):\n",
    "    file_prefix = txt_file.split('.txt')[0]\n",
    "    print(file_prefix)\n",
    "    df = pd.read_csv(txt_file, header=None, names=['Path'])\n",
    "    df['Path'] = df['Path'].str.replace('/content/drive/MyDrive/Digispecies/Data', './local_data/metadata')\n",
    "    df.to_csv(file_prefix+'.csv', index=True, index_label='Image_Id')\n",
    "    return None\n",
    "\n",
    "txt_files = ['./local_data/table_list/02_dec.txt', './local_data/table_list/05_dec.txt', \n",
    "            './local_data/table_list/06_jul.txt']\n",
    "\n",
    "for file in txt_files:\n",
    "    txt_csv(file)"
   ]
  },
  {
   "cell_type": "code",
   "execution_count": null,
   "id": "da89c184-0c9c-45a5-b2e1-0faa7409a87b",
   "metadata": {},
   "outputs": [],
   "source": [
    "# get all metafiles from google drive data directory\n",
    "import os\n",
    "from glob import glob\n",
    "import shutil\n",
    "from pathlib import Path\n",
    "\n",
    "# Specify the root directory path\n",
    "# MyDrive/Work/Digi Species/Data/\n",
    "\n",
    "def get_all_meta_files(PATH, META_XML=\"meta.xml\", EXT=\"*.xml\"):\n",
    "  # Get a list of all CSV files in the directory and its subdirectories\n",
    "  EXT=\"*.xml\"\n",
    "  all_metaxml_files = [file for path, _, files in os.walk(PATH)\\\n",
    "                       for file in glob(os.path.join(path, EXT)) if 'meta.xml' in file]\n",
    "  # all_metaxml_files = [file for path, _, files in os.walk(PATH) for file in os.path.join(path, FILE)]\n",
    "  \n",
    "  # print(all_metaxml_files)\n",
    "\n",
    "  for file_src in all_metaxml_files:\n",
    "    file_dst = file_src.replace(\"/content/drive/MyDrive/Work/Digi Species/Data/Data/\", \\\n",
    "                                \"/content/drive/MyDrive/Work/Digi Species/Data/Meta_Data/\")\n",
    "    # Create a Path object from the file path\n",
    "    path = Path(file_dst)\n",
    "\n",
    "    # Create the parent directories if they don't exist\n",
    "    path.parent.mkdir(parents=True, exist_ok=True)\n",
    "    shutil.copy(file_src, path)\n",
    "\n",
    "\n",
    "PATH_list = [\"/content/drive/MyDrive/Work/Digi Species/Data/Data/unziped_02_dec/\",\n",
    "            \"/content/drive/MyDrive/Work/Digi Species/Data/Data/unziped_05_dec/\",\n",
    "             \"/content/drive/MyDrive/Work/Digi Species/Data/Data/Only_table_06_jul/\"]\n",
    "\n",
    "for PATH in PATH_list:\n",
    "  get_all_meta_files(PATH)"
   ]
  },
  {
   "cell_type": "code",
   "execution_count": 6,
   "id": "eb476fdd-dd20-4473-8ab6-2c22744f7428",
   "metadata": {},
   "outputs": [],
   "source": [
    "def extract_metadata(xml_file):\n",
    "    pass\n",
    "    \n",
    "\n",
    "def read_path(csv_file):\n",
    "    df = pd.read_csv(csv_file, encoding='utf-8')\n",
    "    return df\n",
    "\n",
    "def set_meta_file_path(path):\n",
    "    path = path.split('images/')[0]\n",
    "    return path+'meta.xml'\n",
    "    \n"
   ]
  },
  {
   "cell_type": "raw",
   "id": "33c8dce8-9ddb-456f-b1c9-874b7a8227eb",
   "metadata": {
    "scrolled": true
   },
   "source": [
    "import xml.etree.ElementTree as ET\n",
    "# Replace `path/to/xml.xml` with the actual path to your XML file\n",
    "tree = ET.parse('./local_data/sample_metadata/meta.xml')\n",
    "root = tree.getroot()\n",
    "\n",
    "for element in root.iter():\n",
    "    for m in element.findall('goobi:metadata', namespaces={\"goobi\":\"http://meta.goobi.org/v1.5.1/\"}):\n",
    "        print(f\"Tag: {m.tag} Field: {m.attrib.get('name')} Text: {m.text}\")"
   ]
  },
  {
   "cell_type": "code",
   "execution_count": 7,
   "id": "400023be-81e6-4a5f-b8aa-67baa0562f46",
   "metadata": {
    "scrolled": true
   },
   "outputs": [
    {
     "name": "stdout",
     "output_type": "stream",
     "text": [
      "{'eventDate': 'PublicationYear', 'year': 'PublicationYear', 'publicationYear': 'PublicationYear', 'title': 'TitleDocMain', 'publicationTitle': 'TitleDocMain', 'catalogNumber': 'TxID', 'language': 'DocLanguage', 'collectionCode': 'singleDigCollection', 'publicationAuthors': 'TxAuthor', 'parentCollectionIdentifier': 'singleDigCollection', 'collectionIdentifier': 'CatalogIDDigital', 'authorityURI': 'authorityURI', 'authorityValue': 'authorityValue'}\n",
      "{'./local_data/metadata/unziped_02_dec/tx_7397/28978/meta.xml': {}, './local_data/metadata/unziped_02_dec/tx_7407/28981/meta.xml': {}, './local_data/metadata/unziped_02_dec/tx_7423/28986/meta.xml': {}, './local_data/metadata/unziped_02_dec/tx_7426/28987/meta.xml': {}, './local_data/metadata/unziped_02_dec/tx_7447/28988/meta.xml': {}, './local_data/metadata/unziped_02_dec/tx_7454/28990/meta.xml': {}, './local_data/metadata/unziped_02_dec/tx_7462/28991/meta.xml': {}, './local_data/metadata/unziped_02_dec/tx_7464/28992/meta.xml': {}, './local_data/metadata/unziped_02_dec/tx_7465/28993/meta.xml': {}, './local_data/metadata/unziped_02_dec/tx_7467/28994/meta.xml': {}, './local_data/metadata/unziped_02_dec/tx_7483/28997/meta.xml': {}, './local_data/metadata/unziped_02_dec/tx_7484/28998/meta.xml': {}, './local_data/metadata/unziped_02_dec/tx_7487/29001/meta.xml': {}, './local_data/metadata/unziped_02_dec/tx_7493/29002/meta.xml': {}, './local_data/metadata/unziped_02_dec/tx_7498/29003/meta.xml': {}, './local_data/metadata/unziped_02_dec/tx_7518/29005/meta.xml': {}, './local_data/metadata/unziped_02_dec/tx_7533/29008/meta.xml': {}, './local_data/metadata/unziped_02_dec/tx_7549/29009/meta.xml': {}, './local_data/metadata/unziped_02_dec/tx_7595/29013/meta.xml': {}, './local_data/metadata/unziped_02_dec/tx_7608/29014/meta.xml': {}, './local_data/metadata/unziped_02_dec/tx_7609/29015/meta.xml': {}, './local_data/metadata/unziped_02_dec/tx_7636/29016/meta.xml': {}, './local_data/metadata/unziped_02_dec/tx_7637/29017/meta.xml': {}, './local_data/metadata/unziped_02_dec/tx_7638/29018/meta.xml': {}, './local_data/metadata/unziped_02_dec/tx_7663/29019/meta.xml': {}, './local_data/metadata/unziped_02_dec/tx_7674/29020/meta.xml': {}, './local_data/metadata/unziped_02_dec/tx_7676/29021/meta.xml': {}, './local_data/metadata/unziped_02_dec/tx_7678/29022/meta.xml': {}, './local_data/metadata/unziped_02_dec/tx_7687/29023/meta.xml': {}, './local_data/metadata/unziped_02_dec/tx_7705/29024/meta.xml': {}, './local_data/metadata/unziped_02_dec/tx_7708/29025/meta.xml': {}, './local_data/metadata/unziped_02_dec/tx_7714/29026/meta.xml': {}, './local_data/metadata/unziped_02_dec/tx_7716/29027/meta.xml': {}, './local_data/metadata/unziped_02_dec/tx_7724/29028/meta.xml': {}, './local_data/metadata/unziped_02_dec/tx_7787/29030/meta.xml': {}, './local_data/metadata/unziped_02_dec/tx_7812/29031/meta.xml': {}, './local_data/metadata/unziped_02_dec/tx_7817/29032/meta.xml': {}, './local_data/metadata/unziped_02_dec/tx_7828/29033/meta.xml': {}, './local_data/metadata/unziped_02_dec/tx_7870/29034/meta.xml': {}, './local_data/metadata/unziped_02_dec/tx_7940/29036/meta.xml': {}, './local_data/metadata/unziped_02_dec/tx_7942/29037/meta.xml': {}, './local_data/metadata/unziped_02_dec/tx_7963/29039/meta.xml': {}, './local_data/metadata/unziped_02_dec/tx_7964/29040/meta.xml': {}, './local_data/metadata/unziped_02_dec/tx_7965/29041/meta.xml': {}, './local_data/metadata/unziped_02_dec/tx_7966/29042/meta.xml': {}, './local_data/metadata/unziped_02_dec/tx_7967/29043/meta.xml': {}, './local_data/metadata/unziped_02_dec/tx_7971/29046/meta.xml': {}, './local_data/metadata/unziped_02_dec/tx_7972/29047/meta.xml': {}, './local_data/metadata/unziped_02_dec/tx_7974/29048/meta.xml': {}, './local_data/metadata/unziped_02_dec/tx_7975/29049/meta.xml': {}, './local_data/metadata/unziped_02_dec/tx_7977/29050/meta.xml': {}, './local_data/metadata/unziped_02_dec/tx_7978/29051/meta.xml': {}, './local_data/metadata/unziped_02_dec/tx_7983/29053/meta.xml': {}, './local_data/metadata/unziped_02_dec/tx_7988/29054/meta.xml': {}, './local_data/metadata/unziped_02_dec/tx_7999/29055/meta.xml': {}, './local_data/metadata/unziped_02_dec/tx_8001/29056/meta.xml': {}, './local_data/metadata/unziped_02_dec/tx_8008/29057/meta.xml': {}, './local_data/metadata/unziped_02_dec/tx_8012/29058/meta.xml': {}, './local_data/metadata/unziped_02_dec/tx_8093/29064/meta.xml': {}, './local_data/metadata/unziped_02_dec/tx_8095/29065/meta.xml': {}, './local_data/metadata/unziped_02_dec/tx_8099/29066/meta.xml': {}, './local_data/metadata/unziped_02_dec/tx_8103/29068/meta.xml': {}, './local_data/metadata/unziped_02_dec/tx_8115/29069/meta.xml': {}, './local_data/metadata/unziped_02_dec/tx_8116/29070/meta.xml': {}, './local_data/metadata/unziped_02_dec/tx_8156/29073/meta.xml': {}, './local_data/metadata/unziped_02_dec/tx_8157/29074/meta.xml': {}, './local_data/metadata/unziped_02_dec/tx_8161/29076/meta.xml': {}, './local_data/metadata/unziped_02_dec/tx_8162/29077/meta.xml': {}, './local_data/metadata/unziped_02_dec/tx_8222/29081/meta.xml': {}, './local_data/metadata/unziped_02_dec/tx_8248/29082/meta.xml': {}, './local_data/metadata/unziped_02_dec/tx_8249/29083/meta.xml': {}, './local_data/metadata/unziped_02_dec/tx_8253/29084/meta.xml': {}, './local_data/metadata/unziped_02_dec/tx_8257/29085/meta.xml': {}, './local_data/metadata/unziped_02_dec/tx_8338/29088/meta.xml': {}, './local_data/metadata/unziped_02_dec/tx_8369/29090/meta.xml': {}}\n",
      "{'./local_data/metadata/unziped_02_dec/tx_7724/29028/meta.xml': {}, './local_data/metadata/unziped_05_dec/tx_10008/29818/meta.xml': {}, './local_data/metadata/unziped_05_dec/tx_10019/29819/meta.xml': {}, './local_data/metadata/unziped_05_dec/tx_10052/29820/meta.xml': {}, './local_data/metadata/unziped_05_dec/tx_10236/29821/meta.xml': {}, './local_data/metadata/unziped_05_dec/tx_10246/29822/meta.xml': {}, './local_data/metadata/unziped_05_dec/tx_10325/29823/meta.xml': {}, './local_data/metadata/unziped_05_dec/tx_10335/29826/meta.xml': {}, './local_data/metadata/unziped_05_dec/tx_10347/29827/meta.xml': {}, './local_data/metadata/unziped_05_dec/tx_10467b/29830/meta.xml': {}, './local_data/metadata/unziped_05_dec/tx_10473/29831/meta.xml': {}, './local_data/metadata/unziped_05_dec/tx_10545/29833/meta.xml': {}, './local_data/metadata/unziped_05_dec/tx_10561/29835/meta.xml': {}, './local_data/metadata/unziped_05_dec/tx_10587/29836/meta.xml': {}, './local_data/metadata/unziped_05_dec/tx_10593/29837/meta.xml': {}, './local_data/metadata/unziped_05_dec/tx_10603/29839/meta.xml': {}, './local_data/metadata/unziped_05_dec/tx_10613/29841/meta.xml': {}, './local_data/metadata/unziped_05_dec/tx_10631/29843/meta.xml': {}, './local_data/metadata/unziped_05_dec/tx_10671/29845/meta.xml': {}, './local_data/metadata/unziped_05_dec/tx_10688/29847/meta.xml': {}, './local_data/metadata/unziped_05_dec/tx_10689/29848/meta.xml': {}, './local_data/metadata/unziped_05_dec/tx_10690/29849/meta.xml': {}, './local_data/metadata/unziped_05_dec/tx_10694/29852/meta.xml': {}, './local_data/metadata/unziped_05_dec/tx_10713/29854/meta.xml': {}, './local_data/metadata/unziped_05_dec/tx_10730/29855/meta.xml': {}, './local_data/metadata/unziped_05_dec/tx_10752/29857/meta.xml': {}, './local_data/metadata/unziped_05_dec/tx_10784/29859/meta.xml': {}, './local_data/metadata/unziped_05_dec/tx_10787/29860/meta.xml': {}, './local_data/metadata/unziped_05_dec/tx_10794/29861/meta.xml': {}, './local_data/metadata/unziped_05_dec/tx_10796/29862/meta.xml': {}, './local_data/metadata/unziped_05_dec/tx_10797/29863/meta.xml': {}, './local_data/metadata/unziped_05_dec/tx_10817/29864/meta.xml': {}, './local_data/metadata/unziped_05_dec/tx_10819/29865/meta.xml': {}, './local_data/metadata/unziped_05_dec/tx_10874/29866/meta.xml': {}, './local_data/metadata/unziped_05_dec/tx_10926/29867/meta.xml': {}, './local_data/metadata/unziped_05_dec/tx_11076/29870/meta.xml': {}, './local_data/metadata/unziped_05_dec/tx_11103/29871/meta.xml': {}, './local_data/metadata/unziped_05_dec/tx_11106/29873/meta.xml': {}, './local_data/metadata/unziped_05_dec/tx_11110/29874/meta.xml': {}, './local_data/metadata/unziped_05_dec/tx_11119/29875/meta.xml': {}, './local_data/metadata/unziped_05_dec/tx_11120/29876/meta.xml': {}, './local_data/metadata/unziped_05_dec/tx_11133/29877/meta.xml': {}, './local_data/metadata/unziped_05_dec/tx_11142/29878/meta.xml': {}, './local_data/metadata/unziped_05_dec/tx_11146/29879/meta.xml': {}, './local_data/metadata/unziped_05_dec/tx_11240/29883/meta.xml': {}, './local_data/metadata/unziped_05_dec/tx_11368/29884/meta.xml': {}, './local_data/metadata/unziped_05_dec/tx_11373/29885/meta.xml': {}, './local_data/metadata/unziped_05_dec/tx_11396/29886/meta.xml': {}, './local_data/metadata/unziped_05_dec/tx_11461/29891/meta.xml': {}, './local_data/metadata/unziped_05_dec/tx_11474/29894/meta.xml': {}, './local_data/metadata/unziped_05_dec/tx_11475a/29895/meta.xml': {}, './local_data/metadata/unziped_05_dec/tx_11519/29897/meta.xml': {}, './local_data/metadata/unziped_05_dec/tx_11549/29899/meta.xml': {}, './local_data/metadata/unziped_05_dec/tx_11644/29900/meta.xml': {}, './local_data/metadata/unziped_05_dec/tx_11785/29903/meta.xml': {}, './local_data/metadata/unziped_05_dec/tx_11786/29904/meta.xml': {}, './local_data/metadata/unziped_05_dec/tx_11792/29905/meta.xml': {}, './local_data/metadata/unziped_05_dec/tx_11794/29906/meta.xml': {}, './local_data/metadata/unziped_05_dec/tx_11807/29907/meta.xml': {}, './local_data/metadata/unziped_05_dec/tx_11816/29908/meta.xml': {}, './local_data/metadata/unziped_05_dec/tx_11825/29909/meta.xml': {}, './local_data/metadata/unziped_05_dec/tx_11862/29910/meta.xml': {}, './local_data/metadata/unziped_05_dec/tx_11868/29912/meta.xml': {}, './local_data/metadata/unziped_05_dec/tx_11878/29913/meta.xml': {}, './local_data/metadata/unziped_05_dec/tx_11889/29914/meta.xml': {}, './local_data/metadata/unziped_05_dec/tx_11892/29916/meta.xml': {}, './local_data/metadata/unziped_05_dec/tx_11911a/29917/meta.xml': {}, './local_data/metadata/unziped_05_dec/tx_11913/29918/meta.xml': {}, './local_data/metadata/unziped_05_dec/tx_11916/29919/meta.xml': {}, './local_data/metadata/unziped_05_dec/tx_11917/29920/meta.xml': {}, './local_data/metadata/unziped_05_dec/tx_11919/29921/meta.xml': {}, './local_data/metadata/unziped_05_dec/tx_11931/29922/meta.xml': {}, './local_data/metadata/unziped_05_dec/tx_11948/29926/meta.xml': {}, './local_data/metadata/unziped_05_dec/tx_11949/29927/meta.xml': {}, './local_data/metadata/unziped_05_dec/tx_8371/29715/meta.xml': {}, './local_data/metadata/unziped_05_dec/tx_8384/29716/meta.xml': {}, './local_data/metadata/unziped_05_dec/tx_8401/29717/meta.xml': {}, './local_data/metadata/unziped_05_dec/tx_8462/29719/meta.xml': {}, './local_data/metadata/unziped_05_dec/tx_8544/29720/meta.xml': {}, './local_data/metadata/unziped_05_dec/tx_8568/29721/meta.xml': {}, './local_data/metadata/unziped_05_dec/tx_8612/29723/meta.xml': {}, './local_data/metadata/unziped_05_dec/tx_8667/29724/meta.xml': {}, './local_data/metadata/unziped_05_dec/tx_8722/29726/meta.xml': {}, './local_data/metadata/unziped_05_dec/tx_8749/29727/meta.xml': {}, './local_data/metadata/unziped_05_dec/tx_8806/29729/meta.xml': {}, './local_data/metadata/unziped_05_dec/tx_8942/29735/meta.xml': {}, './local_data/metadata/unziped_05_dec/tx_8948/29737/meta.xml': {}, './local_data/metadata/unziped_05_dec/tx_9016/29741/meta.xml': {}, './local_data/metadata/unziped_05_dec/tx_9027/29742/meta.xml': {}, './local_data/metadata/unziped_05_dec/tx_9109/29745/meta.xml': {}, './local_data/metadata/unziped_05_dec/tx_9110/29746/meta.xml': {}, './local_data/metadata/unziped_05_dec/tx_9227/29750/meta.xml': {}, './local_data/metadata/unziped_05_dec/tx_9231/29751/meta.xml': {}, './local_data/metadata/unziped_05_dec/tx_9241/29752/meta.xml': {}, './local_data/metadata/unziped_05_dec/tx_9244/29753/meta.xml': {}, './local_data/metadata/unziped_05_dec/tx_9263/29754/meta.xml': {}, './local_data/metadata/unziped_05_dec/tx_9306/29755/meta.xml': {}, './local_data/metadata/unziped_05_dec/tx_9326/29756/meta.xml': {}, './local_data/metadata/unziped_05_dec/tx_9352/29758/meta.xml': {}, './local_data/metadata/unziped_05_dec/tx_9353/29759/meta.xml': {}, './local_data/metadata/unziped_05_dec/tx_9368/29760/meta.xml': {}, './local_data/metadata/unziped_05_dec/tx_9401/29761/meta.xml': {}, './local_data/metadata/unziped_05_dec/tx_9406/29762/meta.xml': {}, './local_data/metadata/unziped_05_dec/tx_9411/29763/meta.xml': {}, './local_data/metadata/unziped_05_dec/tx_9506/29767/meta.xml': {}, './local_data/metadata/unziped_05_dec/tx_9521/29768/meta.xml': {}, './local_data/metadata/unziped_05_dec/tx_9589/29769/meta.xml': {}, './local_data/metadata/unziped_05_dec/tx_9593/29770/meta.xml': {}, './local_data/metadata/unziped_05_dec/tx_9612/29772/meta.xml': {}, './local_data/metadata/unziped_05_dec/tx_9619/29773/meta.xml': {}, './local_data/metadata/unziped_05_dec/tx_9624/29774/meta.xml': {}, './local_data/metadata/unziped_05_dec/tx_9639/29775/meta.xml': {}, './local_data/metadata/unziped_05_dec/tx_9675/29778/meta.xml': {}, './local_data/metadata/unziped_05_dec/tx_9711/29779/meta.xml': {}, './local_data/metadata/unziped_05_dec/tx_9714/29781/meta.xml': {}, './local_data/metadata/unziped_05_dec/tx_9731/29785/meta.xml': {}, './local_data/metadata/unziped_05_dec/tx_9734/29787/meta.xml': {}, './local_data/metadata/unziped_05_dec/tx_9737/29789/meta.xml': {}, './local_data/metadata/unziped_05_dec/tx_9738/29790/meta.xml': {}, './local_data/metadata/unziped_05_dec/tx_9739/29791/meta.xml': {}, './local_data/metadata/unziped_05_dec/tx_9750/29792/meta.xml': {}, './local_data/metadata/unziped_05_dec/tx_9754/29794/meta.xml': {}, './local_data/metadata/unziped_05_dec/tx_9759/29797/meta.xml': {}, './local_data/metadata/unziped_05_dec/tx_9763/29799/meta.xml': {}, './local_data/metadata/unziped_05_dec/tx_9764/29800/meta.xml': {}, './local_data/metadata/unziped_05_dec/tx_9765/29801/meta.xml': {}, './local_data/metadata/unziped_05_dec/tx_9776/29804/meta.xml': {}, './local_data/metadata/unziped_05_dec/tx_9778/29805/meta.xml': {}, './local_data/metadata/unziped_05_dec/tx_9782/29807/meta.xml': {}, './local_data/metadata/unziped_05_dec/tx_9783/29808/meta.xml': {}, './local_data/metadata/unziped_05_dec/tx_9786/29809/meta.xml': {}, './local_data/metadata/unziped_05_dec/tx_9790/29810/meta.xml': {}, './local_data/metadata/unziped_05_dec/tx_9791/29811/meta.xml': {}, './local_data/metadata/unziped_05_dec/tx_9812/29813/meta.xml': {}, './local_data/metadata/unziped_05_dec/tx_9905/29814/meta.xml': {}, './local_data/metadata/unziped_05_dec/tx_9957/29816/meta.xml': {}}\n",
      "{'./local_data/metadata/Only_table_06_jul/unziped_06_jul/tx_2666/25927/meta.xml': {}, './local_data/metadata/Only_table_06_jul/unziped_06_jul/tx_2671/25929/meta.xml': {}, './local_data/metadata/Only_table_06_jul/unziped_06_jul/tx_2673/25931/meta.xml': {}, './local_data/metadata/Only_table_06_jul/unziped_06_jul/tx_2675/25932/meta.xml': {}, './local_data/metadata/Only_table_06_jul/unziped_06_jul/tx_2693/25939/meta.xml': {}, './local_data/metadata/Only_table_06_jul/unziped_06_jul/tx_2716/25940/meta.xml': {}, './local_data/metadata/Only_table_06_jul/unziped_06_jul/tx_2733/25942/meta.xml': {}, './local_data/metadata/Only_table_06_jul/unziped_06_jul/tx_2742/25945/meta.xml': {}, './local_data/metadata/Only_table_06_jul/unziped_06_jul/tx_2789/25946/meta.xml': {}, './local_data/metadata/Only_table_06_jul/unziped_06_jul/tx_2790/25947/meta.xml': {}, './local_data/metadata/Only_table_06_jul/unziped_06_jul/tx_2791/25948/meta.xml': {}, './local_data/metadata/Only_table_06_jul/unziped_06_jul/tx_2792/25949/meta.xml': {}, './local_data/metadata/Only_table_06_jul/unziped_06_jul/tx_2793/25950/meta.xml': {}, './local_data/metadata/Only_table_06_jul/unziped_06_jul/tx_2794/25951/meta.xml': {}, './local_data/metadata/Only_table_06_jul/unziped_06_jul/tx_2801/25952/meta.xml': {}, './local_data/metadata/Only_table_06_jul/unziped_06_jul/tx_2802/25953/meta.xml': {}, './local_data/metadata/Only_table_06_jul/unziped_06_jul/tx_2807/25956/meta.xml': {}, './local_data/metadata/Only_table_06_jul/unziped_06_jul/tx_2885/25964/meta.xml': {}, './local_data/metadata/Only_table_06_jul/unziped_06_jul/tx_2894/25965/meta.xml': {}, './local_data/metadata/Only_table_06_jul/unziped_06_jul/tx_2903/25966/meta.xml': {}, './local_data/metadata/Only_table_06_jul/unziped_06_jul/tx_2911/25967/meta.xml': {}, './local_data/metadata/Only_table_06_jul/unziped_06_jul/tx_2912/25968/meta.xml': {}, './local_data/metadata/Only_table_06_jul/unziped_06_jul/tx_2915/25969/meta.xml': {}, './local_data/metadata/Only_table_06_jul/unziped_06_jul/tx_2925/25974/meta.xml': {}, './local_data/metadata/Only_table_06_jul/unziped_06_jul/tx_2928/25975/meta.xml': {}, './local_data/metadata/Only_table_06_jul/unziped_06_jul/tx_2929/25976/meta.xml': {}, './local_data/metadata/Only_table_06_jul/unziped_06_jul/tx_2931/25977/meta.xml': {}, './local_data/metadata/Only_table_06_jul/unziped_06_jul/tx_2933/25978/meta.xml': {}, './local_data/metadata/Only_table_06_jul/unziped_06_jul/tx_2948/25979/meta.xml': {}, './local_data/metadata/Only_table_06_jul/unziped_06_jul/tx_2949/25980/meta.xml': {}, './local_data/metadata/Only_table_06_jul/unziped_06_jul/tx_2952/25981/meta.xml': {}, './local_data/metadata/Only_table_06_jul/unziped_06_jul/tx_2973/25983/meta.xml': {}, './local_data/metadata/Only_table_06_jul/unziped_06_jul/tx_2976/25984/meta.xml': {}, './local_data/metadata/Only_table_06_jul/unziped_06_jul/tx_2977/25985/meta.xml': {}, './local_data/metadata/Only_table_06_jul/unziped_06_jul/tx_2978_a/25987/meta.xml': {}, './local_data/metadata/Only_table_06_jul/unziped_06_jul/tx_2979/25988/meta.xml': {}, './local_data/metadata/Only_table_06_jul/unziped_06_jul/tx_2980/25989/meta.xml': {}, './local_data/metadata/Only_table_06_jul/unziped_06_jul/tx_2981/25990/meta.xml': {}, './local_data/metadata/Only_table_06_jul/unziped_06_jul/tx_2982/25991/meta.xml': {}, './local_data/metadata/Only_table_06_jul/unziped_06_jul/tx_2983/25992/meta.xml': {}, './local_data/metadata/Only_table_06_jul/unziped_06_jul/tx_2992/25995/meta.xml': {}, './local_data/metadata/Only_table_06_jul/unziped_06_jul/tx_2993/25996/meta.xml': {}, './local_data/metadata/Only_table_06_jul/unziped_06_jul/tx_2994/25997/meta.xml': {}, './local_data/metadata/Only_table_06_jul/unziped_06_jul/tx_2995/25998/meta.xml': {}, './local_data/metadata/Only_table_06_jul/unziped_06_jul/tx_3002/26000/meta.xml': {}, './local_data/metadata/Only_table_06_jul/unziped_06_jul/tx_3006/26003/meta.xml': {}, './local_data/metadata/Only_table_06_jul/unziped_06_jul/tx_3037/26006/meta.xml': {}, './local_data/metadata/Only_table_06_jul/unziped_06_jul/tx_3038/26007/meta.xml': {}, './local_data/metadata/Only_table_06_jul/unziped_06_jul/tx_3041/26008/meta.xml': {}, './local_data/metadata/Only_table_06_jul/unziped_06_jul/tx_3057/26010/meta.xml': {}, './local_data/metadata/Only_table_06_jul/unziped_06_jul/tx_3060/26012/meta.xml': {}, './local_data/metadata/Only_table_06_jul/unziped_06_jul/tx_3061/26013/meta.xml': {}, './local_data/metadata/Only_table_06_jul/unziped_06_jul/tx_3062/26014/meta.xml': {}, './local_data/metadata/Only_table_06_jul/unziped_06_jul/tx_3066/26016/meta.xml': {}, './local_data/metadata/Only_table_06_jul/unziped_06_jul/tx_3068/26017/meta.xml': {}, './local_data/metadata/Only_table_06_jul/unziped_06_jul/tx_3070/26018/meta.xml': {}, './local_data/metadata/Only_table_06_jul/unziped_06_jul/tx_3072/26019/meta.xml': {}, './local_data/metadata/Only_table_06_jul/unziped_06_jul/tx_3077/26020/meta.xml': {}, './local_data/metadata/Only_table_06_jul/unziped_06_jul/tx_3082/26021/meta.xml': {}, './local_data/metadata/Only_table_06_jul/unziped_06_jul/tx_3131/26025/meta.xml': {}, './local_data/metadata/Only_table_06_jul/unziped_06_jul/tx_3136/26027/meta.xml': {}, './local_data/metadata/Only_table_06_jul/unziped_06_jul/tx_3140/26028/meta.xml': {}, './local_data/metadata/Only_table_06_jul/unziped_06_jul/tx_3142/26029/meta.xml': {}, './local_data/metadata/Only_table_06_jul/unziped_06_jul/tx_3144/26030/meta.xml': {}, './local_data/metadata/Only_table_06_jul/unziped_06_jul/tx_3145/26031/meta.xml': {}, './local_data/metadata/Only_table_06_jul/unziped_06_jul/tx_3146/26032/meta.xml': {}, './local_data/metadata/Only_table_06_jul/unziped_06_jul/tx_3147/26033/meta.xml': {}, './local_data/metadata/Only_table_06_jul/unziped_06_jul/tx_3152/26034/meta.xml': {}, './local_data/metadata/Only_table_06_jul/unziped_06_jul/tx_3156/26035/meta.xml': {}, './local_data/metadata/Only_table_06_jul/unziped_06_jul/tx_3194/26040/meta.xml': {}, './local_data/metadata/Only_table_06_jul/unziped_06_jul/tx_3200/26041/meta.xml': {}, './local_data/metadata/Only_table_06_jul/unziped_06_jul/tx_3213/26042/meta.xml': {}}\n"
     ]
    }
   ],
   "source": [
    "from IPython.display import display, HTML\n",
    "\n",
    "\"\"\"('AdditionalNotes', 'Sonderabdruck aus, Decheniana, Verhandlungen des Naturhistorischen Vereins der Rheinlande und Westfalens, Band 101 A B'),\n",
    "   'PlaceOfPublication', 'Bonn',\n",
    "   'PublisherName', 'Hch. Ludwig',\n",
    "   'TxMainLanguage', 'german',\n",
    "   'TxType', 'book',\n",
    "   'TxSpeciesData', 'yes',\n",
    "   'TxFormat', 'A4',\n",
    "   'SizeSourcePrint', 'Seiten 131-214g, L1-L18',\n",
    "   'Illustration', 'Diagramme',\n",
    "   'pathimagefiles', './images/',\n",
    "   '_representative', '1',\n",
    "   'Author', {'type', 'person',\n",
    "             'lastName', 'Budde',\n",
    "             'firstName', 'Hermann',\n",
    "             'authorityID', 'gnd',\n",
    "             'authorityURI', 'http,//d-nb.info/gnd/',\n",
    "             'authorityValue', 1028522606,\n",
    "             'displayName', 'Budde, Hermann'}}\"\"\"\n",
    "\n",
    "\n",
    "mappping_metaxml_to_eml_list = [('PublicationYear', 'eventDate'), \n",
    "                                 ('PublicationYear', 'year'), \n",
    "                                  ('PublicationYear', 'publicationYear'),\n",
    "                                 ('TitleDocMain', 'title'),('TitleDocMain', 'publicationTitle'), \n",
    "                                  ('TxID','catalogNumber'), ('DocLanguage', 'language'),\n",
    "                                  ('singleDigCollection', 'collectionCode'), ('TxAuthor','publicationAuthors'),\n",
    "                                  ('singleDigCollection', 'parentCollectionIdentifier'), \n",
    "                                 ('CatalogIDDigital', 'collectionIdentifier'), ('authorityURI', 'authorityURI'), \n",
    "                                  ('authorityValue', 'authorityValue'),]\n",
    "\n",
    "mappping_metaxml_to_eml_dict = {i[1]:i[0] for i in mappping_metaxml_to_eml_list}\n",
    "\n",
    "print (mappping_metaxml_to_eml_dict)\n",
    "\n",
    "def remove_null_values_from_nested_dict(nested_dict):\n",
    "    if not isinstance(nested_dict, dict):\n",
    "        return nested_dict\n",
    "\n",
    "    new_dict = {}\n",
    "    for key, value in nested_dict.items():\n",
    "        if value is not None and not isinstance(value, dict) and not value!=value:\n",
    "            if type(value)==float:\n",
    "                value = int(value)\n",
    "            new_dict[key] = value\n",
    "        elif isinstance(value, dict):\n",
    "            if type(value)==float:\n",
    "                value = int(value)\n",
    "            new_dict[key] = remove_null_values_from_nested_dict(value)\n",
    "\n",
    "    return new_dict\n",
    "\n",
    "\n",
    "\n",
    "# Getting metadata from all metafiles for imageId_metapath file\n",
    "def get_metadata_file(metafile_path_data_dict, imageId_metapath_file=None):\n",
    "    for meta_file_key, value in metafile_path_data_dict.items():\n",
    "        # ToDo -------- Temporary Path -------------\n",
    "        # download data and append ./ to meta_file_key\n",
    "        # meta_file_key ='./local_data/metadata/meta.xml' # todo metafile \n",
    "        df_meta_file = pd.read_xml(path_or_buffer=meta_file_key, xpath=\"//goobi:metadata\",\n",
    "                          namespaces={\"goobi\":\"http://meta.goobi.org/v1.5.1/\"})\n",
    "        df_meta_file.set_index(keys='name', inplace=True)\n",
    "        df_meta_file = df_meta_file[~df_meta_file.index.duplicated()]\n",
    "        dict_metadata = df_meta_file.to_dict()\n",
    "        new_dict = {}\n",
    "        new_dict['metadata'] = remove_null_values_from_nested_dict(df_meta_file['metadata'].to_dict())\n",
    "        new_dict['Author'] = remove_null_values_from_nested_dict(df_meta_file.loc['Author'].to_dict())\n",
    "        # metafile_path_data_dict[key]=new_dict\n",
    "    \n",
    "        new_dict1 = {}\n",
    "        for k, v in new_dict.items():\n",
    "            # print (new_dict)\n",
    "            k1_v1_dict = {k1:v1 for k1, v1 in new_dict[k].items() if k1 in mappping_metaxml_to_eml_dict.values()}\n",
    "            # print(k1_v1_dict)\n",
    "            new_dict1.update({k2:k1_v1_dict[k1] for k2, k1 in mappping_metaxml_to_eml_dict.items() if k1 in k1_v1_dict.keys()})\n",
    "        metafile_path_data_dict[meta_file_key] = new_dict1\n",
    "        # Todo -------- Remove Break ----------------\n",
    "        # break\n",
    "    \n",
    "    \n",
    "    df_meta = pd.DataFrame.from_dict(metafile_path_data_dict, orient='index' ).reset_index()\n",
    "    # display(df_meta)\n",
    "    ## temporary testing\n",
    "    #  this line is not needed if you have metadata xml files\n",
    "    # df_meta.loc[0,'index']='unziped_02_dec/tx_7487/29001/meta.xml' \n",
    "    # display(df_meta)\n",
    "    # print(df_meta)\n",
    "    df = df_imageId_metapath.merge(df_meta, left_on='MetaFile', right_on='index', how='left')\n",
    "    imageId_metapath_file_prefix = imageId_metapath_file.split('.csv')[0]\n",
    "    df.to_csv(imageId_metapath_file_prefix+'_metadata.csv', encoding='Utf', index=False)\n",
    "\n",
    "\n",
    "imageId_metapath_file_list = ['./local_data/table_list/02_dec.csv', \n",
    "                         './local_data/table_list/05_dec.csv',\n",
    "                         './local_data/table_list/06_jul.csv']\n",
    "for imageId_metapath_file in imageId_metapath_file_list:\n",
    "    df_imageId_metapath = read_path(imageId_metapath_file)\n",
    "    df_imageId_metapath['MetaFile'] = df_imageId_metapath['Path'].apply(set_meta_file_path)\n",
    "    df_imageId_metapath.sort_values(by='MetaFile',inplace=True)\n",
    "    metafile_path_data_dict = {i:{} for i in df_imageId_metapath['MetaFile'].unique().tolist()}\n",
    "    print(metafile_path_data_dict)\n",
    "    get_metadata_file(metafile_path_data_dict, imageId_metapath_file)"
   ]
  },
  {
   "cell_type": "code",
   "execution_count": null,
   "id": "f8aa572d-5146-48ea-8763-7f0517a206c1",
   "metadata": {},
   "outputs": [],
   "source": []
  }
 ],
 "metadata": {
  "kernelspec": {
   "display_name": "Python 3 (ipykernel)",
   "language": "python",
   "name": "python3"
  },
  "language_info": {
   "codemirror_mode": {
    "name": "ipython",
    "version": 3
   },
   "file_extension": ".py",
   "mimetype": "text/x-python",
   "name": "python",
   "nbconvert_exporter": "python",
   "pygments_lexer": "ipython3",
   "version": "3.12.1"
  }
 },
 "nbformat": 4,
 "nbformat_minor": 5
}
