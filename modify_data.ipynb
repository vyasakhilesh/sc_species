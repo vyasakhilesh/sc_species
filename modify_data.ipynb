{
 "cells": [
  {
   "cell_type": "code",
   "execution_count": 1,
   "id": "f3d97c8d-99cf-47ce-9ea0-cdf95f64111e",
   "metadata": {},
   "outputs": [],
   "source": [
    "import pandas as pd\n",
    "import glob"
   ]
  },
  {
   "cell_type": "code",
   "execution_count": 7,
   "id": "157e7b5f-7006-485c-b671-80dffa26cb2d",
   "metadata": {},
   "outputs": [
    {
     "name": "stdout",
     "output_type": "stream",
     "text": [
      "CSV files in the folder:19\n"
     ]
    }
   ],
   "source": [
    "# change Human Observation Fields\n",
    "directory_path  = \"./gbif_test_data/eventdata_combined_occurrence/**/\"  # Replace with the path to your folder\n",
    "all_csv_files_path  = glob.glob(f\"{directory_path}/*.csv\", recursive=True)\n",
    "# Display the list of CSV files\n",
    "print(f\"CSV files in the folder:{len(all_csv_files_path)}\")\n",
    "\n",
    "for csv_file_path in all_csv_files_path: #sorted(all_csv_files_path, key=lambda x: Path(x).stem):\n",
    "    df = pd.read_csv(csv_file_path, encoding='utf-8')\n",
    "    df.drop(columns='basisOfRecord', inplace=True)\n",
    "    df['basisofRecord']='HumanObservation'\n",
    "    df.to_csv(csv_file_path, index=False, encoding='utf-8')"
   ]
  },
  {
   "cell_type": "code",
   "execution_count": 8,
   "id": "34b500f5-5f55-4afb-81f3-7e387dc4754f",
   "metadata": {},
   "outputs": [
    {
     "name": "stdout",
     "output_type": "stream",
     "text": [
      "CSV files in the folder:533\n"
     ]
    }
   ],
   "source": [
    "# change Human Observation Fields\n",
    "directory_path  = \"./gbif_test_data/eventdata/**/\"  # Replace with the path to your folder\n",
    "all_csv_files_path  = glob.glob(f\"{directory_path}/*.csv\", recursive=True)\n",
    "# Display the list of CSV files\n",
    "print(f\"CSV files in the folder:{len(all_csv_files_path)}\")\n",
    "\n",
    "for csv_file_path in all_csv_files_path: #sorted(all_csv_files_path, key=lambda x: Path(x).stem):\n",
    "    df = pd.read_csv(csv_file_path, encoding='utf-8')\n",
    "    df.drop(columns='basisOfRecord', inplace=True)\n",
    "    df['basisofRecord']='HumanObservation'\n",
    "    df.to_csv(csv_file_path, index=False, encoding='utf-8')"
   ]
  },
  {
   "cell_type": "code",
   "execution_count": null,
   "id": "cc7efddd-d79d-42b6-8324-1ab8ef3cac82",
   "metadata": {},
   "outputs": [],
   "source": []
  }
 ],
 "metadata": {
  "kernelspec": {
   "display_name": "Python 3 (ipykernel)",
   "language": "python",
   "name": "python3"
  },
  "language_info": {
   "codemirror_mode": {
    "name": "ipython",
    "version": 3
   },
   "file_extension": ".py",
   "mimetype": "text/x-python",
   "name": "python",
   "nbconvert_exporter": "python",
   "pygments_lexer": "ipython3",
   "version": "3.12.1"
  }
 },
 "nbformat": 4,
 "nbformat_minor": 5
}
