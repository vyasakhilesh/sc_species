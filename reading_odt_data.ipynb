{
 "cells": [
  {
   "cell_type": "code",
   "execution_count": 3,
   "id": "8058c939-d666-4481-99a7-076730cf9713",
   "metadata": {},
   "outputs": [],
   "source": [
    "import pandas as pd\n",
    "\n",
    "import re\n",
    "from odf import text, teletype\n",
    "from odf.opendocument import load"
   ]
  },
  {
   "cell_type": "code",
   "execution_count": 5,
   "id": "cd203b91-412b-43e7-a82e-d4cc93faa823",
   "metadata": {},
   "outputs": [
    {
     "name": "stderr",
     "output_type": "stream",
     "text": [
      "<>:11: SyntaxWarning: invalid escape sequence '\\d'\n",
      "<>:14: SyntaxWarning: invalid escape sequence '\\s'\n",
      "<>:15: SyntaxWarning: invalid escape sequence '\\s'\n",
      "<>:11: SyntaxWarning: invalid escape sequence '\\d'\n",
      "<>:14: SyntaxWarning: invalid escape sequence '\\s'\n",
      "<>:15: SyntaxWarning: invalid escape sequence '\\s'\n",
      "/tmp/ipykernel_11514/4279923433.py:11: SyntaxWarning: invalid escape sequence '\\d'\n",
      "  match = re.match('\\d+', text)\n",
      "/tmp/ipykernel_11514/4279923433.py:14: SyntaxWarning: invalid escape sequence '\\s'\n",
      "  elif re.match('[aA-zZ\\s+]+:', text):\n",
      "/tmp/ipykernel_11514/4279923433.py:15: SyntaxWarning: invalid escape sequence '\\s'\n",
      "  number = re.match('[aA-zZ\\s+]+:', text).group().replace(':', '')\n"
     ]
    },
    {
     "data": {
      "text/html": [
       "<div>\n",
       "<style scoped>\n",
       "    .dataframe tbody tr th:only-of-type {\n",
       "        vertical-align: middle;\n",
       "    }\n",
       "\n",
       "    .dataframe tbody tr th {\n",
       "        vertical-align: top;\n",
       "    }\n",
       "\n",
       "    .dataframe thead th {\n",
       "        text-align: right;\n",
       "    }\n",
       "</style>\n",
       "<table border=\"1\" class=\"dataframe\">\n",
       "  <thead>\n",
       "    <tr style=\"text-align: right;\">\n",
       "      <th></th>\n",
       "      <th>Number</th>\n",
       "      <th>Location Description</th>\n",
       "    </tr>\n",
       "  </thead>\n",
       "  <tbody>\n",
       "    <tr>\n",
       "      <th>0</th>\n",
       "      <td>1.0</td>\n",
       "      <td>1. Bredower Forst  : refers to a forest area i...</td>\n",
       "    </tr>\n",
       "    <tr>\n",
       "      <th>1</th>\n",
       "      <td>2.0</td>\n",
       "      <td>2. Brieselang: is a town located in the Havell...</td>\n",
       "    </tr>\n",
       "    <tr>\n",
       "      <th>2</th>\n",
       "      <td>3.0</td>\n",
       "      <td>3. Bütenheide: is a locality in Germany, speci...</td>\n",
       "    </tr>\n",
       "    <tr>\n",
       "      <th>3</th>\n",
       "      <td>4.0</td>\n",
       "      <td>4. Krämer</td>\n",
       "    </tr>\n",
       "    <tr>\n",
       "      <th>4</th>\n",
       "      <td>5.0</td>\n",
       "      <td>5. Flatower Kienheide: is a nature reserve loc...</td>\n",
       "    </tr>\n",
       "    <tr>\n",
       "      <th>5</th>\n",
       "      <td>NaN</td>\n",
       "      <td></td>\n",
       "    </tr>\n",
       "  </tbody>\n",
       "</table>\n",
       "</div>"
      ],
      "text/plain": [
       "   Number                               Location Description\n",
       "0     1.0  1. Bredower Forst  : refers to a forest area i...\n",
       "1     2.0  2. Brieselang: is a town located in the Havell...\n",
       "2     3.0  3. Bütenheide: is a locality in Germany, speci...\n",
       "3     4.0                                          4. Krämer\n",
       "4     5.0  5. Flatower Kienheide: is a nature reserve loc...\n",
       "5     NaN                                                   "
      ]
     },
     "execution_count": 5,
     "metadata": {},
     "output_type": "execute_result"
    }
   ],
   "source": [
    "# Extracting location description \n",
    "def odt_to_txt(input_file):\n",
    "    doc = load(input_file)\n",
    "    txt = ''\n",
    "    for paragraph in doc.getElementsByType(text.P):\n",
    "        txt += teletype.extractText(paragraph) + '\\n'\n",
    "    return txt\n",
    "\n",
    "def extract_numbers(text):\n",
    "    try:\n",
    "        match = re.match('\\d+', text)\n",
    "        if match:\n",
    "            number = int(match.group())\n",
    "        elif re.match('[aA-zZ\\s+]+:', text):\n",
    "            number = re.match('[aA-zZ\\s+]+:', text).group().replace(':', '')\n",
    "        return number\n",
    "    except Exception as e:\n",
    "        pass\n",
    "\n",
    "def split_by_multiple_blank_lines(text):\n",
    "    sections = re.split('\\n\\n+', text)\n",
    "    return sections\n",
    "\n",
    "def odt_to_dict(input_file):\n",
    "    txt = odt_to_txt(input_file)\n",
    "    paras = split_by_multiple_blank_lines(txt)\n",
    "    num_para_dict = {extract_numbers(para):para for para in paras}\n",
    "    return num_para_dict\n",
    "\n",
    "\n",
    "num_para_dict = odt_to_dict('./local_data/data/data_selection/CSV_05_Dec/335.odt')\n",
    "num_para_dict.pop(None)\n",
    "df_odt = pd.DataFrame(list(num_para_dict.items()), columns=['Number', 'Location Description'])\n",
    "df_odt"
   ]
  },
  {
   "cell_type": "code",
   "execution_count": null,
   "id": "df45a4f3-a75f-4aa5-bec8-3f120ab8eff7",
   "metadata": {},
   "outputs": [],
   "source": [
    "df = pd.DataFrame(list(num_para_dict.items()), columns=['Number', 'Location Description'])"
   ]
  },
  {
   "cell_type": "code",
   "execution_count": null,
   "id": "25838f96-7ea8-4e06-bfc8-fa9c79f02cc7",
   "metadata": {},
   "outputs": [],
   "source": []
  }
 ],
 "metadata": {
  "kernelspec": {
   "display_name": "Python 3 (ipykernel)",
   "language": "python",
   "name": "python3"
  },
  "language_info": {
   "codemirror_mode": {
    "name": "ipython",
    "version": 3
   },
   "file_extension": ".py",
   "mimetype": "text/x-python",
   "name": "python",
   "nbconvert_exporter": "python",
   "pygments_lexer": "ipython3",
   "version": "3.12.1"
  }
 },
 "nbformat": 4,
 "nbformat_minor": 5
}
