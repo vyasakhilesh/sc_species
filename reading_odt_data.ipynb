{
 "cells": [
  {
   "cell_type": "code",
   "execution_count": 24,
   "id": "8058c939-d666-4481-99a7-076730cf9713",
   "metadata": {},
   "outputs": [],
   "source": [
    "import pandas as pd\n",
    "\n",
    "import re"
   ]
  },
  {
   "cell_type": "code",
   "execution_count": 66,
   "id": "cd203b91-412b-43e7-a82e-d4cc93faa823",
   "metadata": {},
   "outputs": [
    {
     "name": "stdout",
     "output_type": "stream",
     "text": [
      "[\"1. Bredower Forst  : refers to a forest area in Germany, located in the state of Brandenburg. Specifically, it is situated near the town of Brieselang, which is in the Havelland district, just west of Berlin. The Bredower Forst is a woodland area known for its natural beauty and recreational opportunities, including hiking, cycling, and nature walks. It's a popular destination for outdoor enthusiasts in the region.\", '2. Brieselang: is a town located in the Havelland district of the state of Brandenburg, Germany. It is situated in the northeastern part of Germany, approximately 15 kilometers (9 miles) west of Berlin, the capital city of Germany. Brieselang is part of the Berlin metropolitan area and serves as a residential suburb for people working in Berlin. It is known for its picturesque landscapes, historic sites, and proximity to Berlin.', '3. Bütenheide: is a locality in Germany, specifically in the state of Lower Saxony. It is part of the municipality of Celle, which is situated in the district of Celle. Celle is located in the northern part of Germany, approximately 40 kilometers northeast of Hannover. Bütenheide is likely a small village or neighborhood within the municipality of Celle.', '4. Krämer', \"5. Flatower Kienheide: is a nature reserve located in the state of Brandenburg, Germany. It is situated near the town of Fehrbellin in the Ostprignitz-Ruppin district. The nature reserve is known for its pine forests and heathland landscapes, which provide habitats for various plant and animal species. It's a popular destination for hiking, nature walks, and birdwatching in the region.\", '']\n"
     ]
    },
    {
     "name": "stderr",
     "output_type": "stream",
     "text": [
      "<>:10: SyntaxWarning: invalid escape sequence '\\d'\n",
      "<>:10: SyntaxWarning: invalid escape sequence '\\d'\n",
      "/tmp/ipykernel_7707/222670612.py:10: SyntaxWarning: invalid escape sequence '\\d'\n",
      "  number = int(re.match('\\d+', text).group())\n"
     ]
    },
    {
     "data": {
      "text/plain": [
       "{1: \"1. Bredower Forst  : refers to a forest area in Germany, located in the state of Brandenburg. Specifically, it is situated near the town of Brieselang, which is in the Havelland district, just west of Berlin. The Bredower Forst is a woodland area known for its natural beauty and recreational opportunities, including hiking, cycling, and nature walks. It's a popular destination for outdoor enthusiasts in the region.\",\n",
       " 2: '2. Brieselang: is a town located in the Havelland district of the state of Brandenburg, Germany. It is situated in the northeastern part of Germany, approximately 15 kilometers (9 miles) west of Berlin, the capital city of Germany. Brieselang is part of the Berlin metropolitan area and serves as a residential suburb for people working in Berlin. It is known for its picturesque landscapes, historic sites, and proximity to Berlin.',\n",
       " 3: '3. Bütenheide: is a locality in Germany, specifically in the state of Lower Saxony. It is part of the municipality of Celle, which is situated in the district of Celle. Celle is located in the northern part of Germany, approximately 40 kilometers northeast of Hannover. Bütenheide is likely a small village or neighborhood within the municipality of Celle.',\n",
       " 4: '4. Krämer',\n",
       " 5: \"5. Flatower Kienheide: is a nature reserve located in the state of Brandenburg, Germany. It is situated near the town of Fehrbellin in the Ostprignitz-Ruppin district. The nature reserve is known for its pine forests and heathland landscapes, which provide habitats for various plant and animal species. It's a popular destination for hiking, nature walks, and birdwatching in the region.\",\n",
       " None: ''}"
      ]
     },
     "execution_count": 66,
     "metadata": {},
     "output_type": "execute_result"
    }
   ],
   "source": [
    "def odt_to_txt(input_file):\n",
    "    doc = load(input_file)\n",
    "    txt = ''\n",
    "    for paragraph in doc.getElementsByType(text.P):\n",
    "        txt += teletype.extractText(paragraph) + '\\n'\n",
    "    return txt\n",
    "\n",
    "def extract_numbers(text):\n",
    "    try:\n",
    "        number = int(re.match('\\d+', text).group())\n",
    "        return number\n",
    "    except Exception as e:\n",
    "        return None\n",
    "\n",
    "def split_by_multiple_blank_lines(text):\n",
    "    sections = re.split('\\n\\n+', text)\n",
    "    return sections\n",
    "    \n",
    "# usage\n",
    "txt = odt_to_txt('./local_data/data/data_selection/CSV_05_Dec/335.odt')\n",
    "paras = split_by_multiple_blank_lines(txt)\n",
    "print(paras)\n",
    "num_para_dict = {extract_numbers(para):para for para in paras}\n",
    "num_para_dict"
   ]
  },
  {
   "cell_type": "code",
   "execution_count": 59,
   "id": "df45a4f3-a75f-4aa5-bec8-3f120ab8eff7",
   "metadata": {},
   "outputs": [],
   "source": [
    "df = pd.DataFrame(list(num_para_dict.items()), columns=['Number', 'Location Description'])"
   ]
  },
  {
   "cell_type": "code",
   "execution_count": null,
   "id": "25838f96-7ea8-4e06-bfc8-fa9c79f02cc7",
   "metadata": {},
   "outputs": [],
   "source": []
  }
 ],
 "metadata": {
  "kernelspec": {
   "display_name": "Python 3 (ipykernel)",
   "language": "python",
   "name": "python3"
  },
  "language_info": {
   "codemirror_mode": {
    "name": "ipython",
    "version": 3
   },
   "file_extension": ".py",
   "mimetype": "text/x-python",
   "name": "python",
   "nbconvert_exporter": "python",
   "pygments_lexer": "ipython3",
   "version": "3.12.1"
  }
 },
 "nbformat": 4,
 "nbformat_minor": 5
}
