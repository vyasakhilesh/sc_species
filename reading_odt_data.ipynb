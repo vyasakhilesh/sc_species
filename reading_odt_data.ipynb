{
 "cells": [
  {
   "cell_type": "code",
   "execution_count": 24,
   "id": "8058c939-d666-4481-99a7-076730cf9713",
   "metadata": {},
   "outputs": [],
   "source": [
    "import pandas as pd\n",
    "\n",
    "import re"
   ]
  },
  {
   "cell_type": "code",
   "execution_count": 85,
   "id": "cd203b91-412b-43e7-a82e-d4cc93faa823",
   "metadata": {},
   "outputs": [
    {
     "name": "stderr",
     "output_type": "stream",
     "text": [
      "<>:11: SyntaxWarning: invalid escape sequence '\\d'\n",
      "<>:14: SyntaxWarning: invalid escape sequence '\\s'\n",
      "<>:15: SyntaxWarning: invalid escape sequence '\\s'\n",
      "<>:11: SyntaxWarning: invalid escape sequence '\\d'\n",
      "<>:14: SyntaxWarning: invalid escape sequence '\\s'\n",
      "<>:15: SyntaxWarning: invalid escape sequence '\\s'\n",
      "/tmp/ipykernel_7707/3258647496.py:11: SyntaxWarning: invalid escape sequence '\\d'\n",
      "  match = re.match('\\d+', text)\n",
      "/tmp/ipykernel_7707/3258647496.py:14: SyntaxWarning: invalid escape sequence '\\s'\n",
      "  elif re.match('[aA-zZ\\s+]+:', text):\n",
      "/tmp/ipykernel_7707/3258647496.py:15: SyntaxWarning: invalid escape sequence '\\s'\n",
      "  number = re.match('[aA-zZ\\s+]+:', text).group()\n"
     ]
    },
    {
     "data": {
      "text/plain": [
       "{'Castle Eden:': \"Castle Eden: is a village located in County Durham, England. It's situated approximately 8 miles (13 kilometers) south of the town of Hartlepool and around 6 miles (10 kilometers) east of Durham City. The village is known for its historic Castle Eden Brewery, which was established in 1826, and for being close to Castle Eden Dene, a picturesque nature reserve with woodland walks and wildlife.\",\n",
       " 'Pakefield:': \"Pakefield: is a suburb of Lowestoft, a town in the Waveney district of Suffolk, England. It is located on the eastern coast of England, near the border with Norfolk. Pakefield is known for its beach, which forms part of the Suffolk Coast and Heaths Area of Outstanding Natural Beauty (AONB). It's a popular destination for tourists, especially during the summer months, due to its scenic coastline and historical attractions.\",\n",
       " 'West Withering:': 'West Withering:  \\nWest Wittering is a coastal village and civil parish located in the Chichester District of West Sussex, England. It is situated on the Manhood Peninsula, approximately 6 miles (10 kilometers) southwest of the city of Chichester. West Wittering is known for its sandy beach, which is popular with tourists and locals alike, particularly for activities such as swimming, windsurfing, and kiteboarding. The area also offers scenic coastal walks and views across the English Channel.',\n",
       " 'Histon Road:': 'Histon Road: is a road located in the city of Cambridge, England. It runs through several neighborhoods, including Arbury, Kings Hedges, and Chesterton, in the northern part of the city. Histon Road is a major thoroughfare in Cambridge, connecting the city center with the northern suburbs and villages such as Histon and Impington. It is lined with various residential, commercial, and educational establishments, including shops, restaurants, schools, and residential properties.',\n",
       " None: \"Clacton-on-Sea: is a coastal town and seaside resort in the Tendring district of Essex, England. It is situated on the northeastern coast of Essex, approximately 60 miles (97 kilometers) northeast of London. Clacton-on-Sea is known for its sandy beaches, amusement parks, and traditional seaside attractions. It's a popular destination for tourists, especially during the summer months, offering various entertainment options, including arcades, fairgrounds, and leisure facilities.\",\n",
       " 'Tegelen:': 'Tegelen: is a town located in the southeastern part of the Netherlands. Specifically, it is situated in the province of Limburg, near the border with Germany. Tegelen is a part of the municipality of Venlo. The town is known for its historic buildings, including castles and churches, as well as its scenic surroundings along the Maas River.',\n",
       " 'Loosdrecht:': 'Loosdrecht: is a village situated in the province of Utrecht in the Netherlands. It is part of the municipality of Wijdemeren. Loosdrecht is famous for its lakes, particularly the Loosdrechtse Plassen, which are a popular recreational area for boating, sailing, and watersports. The village is located approximately 20 kilometers southeast of Amsterdam and is surrounded by beautiful countryside, making it a desirable destination for outdoor activities and tourism.',\n",
       " 'Wylerberg:': 'Wylerberg: is a hill located in the eastern part of the Netherlands, close to the border with Germany. It is situated near the village of Beek in the municipality of Berg en Dal, which is part of the province of Gelderland. The Wylerberg is known for its scenic beauty and is popular among hikers and nature enthusiasts. The area offers picturesque views of the surrounding countryside and is part of the larger landscape of the Rijk van Nijmegen (Realm of Nijmegen), which is characterized by rolling hills, forests, and historic towns.',\n",
       " 'Schwanheim:': \"Schwanheim: is situated southwest of the city center of Frankfurt and is known for its residential areas, parks, and proximity to the Frankfurt Airport. It's part of the Frankfurt-West city district and offers various amenities and facilities for its residents. If you're referring to a different Schwanheim, please provide additional context for a more precise answer.\",\n",
       " 'Rinnersdorf:': \"Rinnersdorf: is a village located in Germany. There are several places with the name Rinnersdorf in different regions of Germany, making it important to specify which one you are referring to. Without additional context, it's difficult to pinpoint the exact location of Rinnersdorf. If you could provide more details or specify the region or state in which Rinnersdorf is located, I would be able to provide a more accurate answer. \",\n",
       " 'Samostrzelniki:': \"Samostrzelniki: is a village located in Poland. It is situated in the Greater Poland Voivodeship (Wielkopolskie) in central-western Poland. Samostrzelniki is part of the administrative district (gmina) of Ceków-Kolonia, which is within the larger county (powiat) of Września. It's worth noting that Poland has several places with similar names, so if you're looking for a specific Samostrzelniki, more details would be helpful in providing an accurate answer.\",\n",
       " 'Zydowszczyzna :': 'Zydowszczyzna : is a term used historically in Poland to refer to areas where Jewish communities lived or areas with significant Jewish populations. It\\'s not a specific location but rather a descriptive term. During different periods of history, Jewish communities were spread throughout Poland, particularly in urban centers and towns. So, \"Żydowszczyzna\" could refer to various places across Poland where Jewish communities once thrived.',\n",
       " 'Lublin:': 'Lublin: is a city located in eastern Poland. It is the capital of the Lublin Voivodeship and one of the largest cities in the region. Lublin is situated approximately 170 kilometers southeast of Warsaw, the capital of Poland.',\n",
       " 'Achmatowka:': 'Achmatowka: a village in Ukraine. It is situated in the Lviv Oblast (region) of western Ukraine. Lviv is one of the major cities in the region, and Achmatowka is likely to be located in its vicinity or within the Lviv Oblast. If you need more specific information or are referring to a different Achmatowka, please provide additional context.\\n'}"
      ]
     },
     "execution_count": 85,
     "metadata": {},
     "output_type": "execute_result"
    }
   ],
   "source": [
    "# Extrccting location description \n",
    "def odt_to_txt(input_file):\n",
    "    doc = load(input_file)\n",
    "    txt = ''\n",
    "    for paragraph in doc.getElementsByType(text.P):\n",
    "        txt += teletype.extractText(paragraph) + '\\n'\n",
    "    return txt\n",
    "\n",
    "def extract_numbers(text):\n",
    "    try:\n",
    "        match = re.match('\\d+', text)\n",
    "        if match:\n",
    "            number = int(match.group())\n",
    "        elif re.match('[aA-zZ\\s+]+:', text):\n",
    "            number = re.match('[aA-zZ\\s+]+:', text).group().replace(':')\n",
    "        return number\n",
    "    except Exception as e:\n",
    "        return None\n",
    "\n",
    "def split_by_multiple_blank_lines(text):\n",
    "    sections = re.split('\\n\\n+', text)\n",
    "    return sections\n",
    "\n",
    "def odt_to_dict(input_file):\n",
    "    txt = odt_to_txt(input_file)\n",
    "    paras = split_by_multiple_blank_lines(txt)\n",
    "    num_para_dict = {extract_numbers(para):para for para in paras}\n",
    "    return num_para_dict\n",
    "\n",
    "\n",
    "num_para_dict = odt_to_dict('./local_data/data/data_selection/CSV_05_Dec/319.odt')\n",
    "num_para_dict"
   ]
  },
  {
   "cell_type": "code",
   "execution_count": null,
   "id": "df45a4f3-a75f-4aa5-bec8-3f120ab8eff7",
   "metadata": {},
   "outputs": [],
   "source": []
  },
  {
   "cell_type": "code",
   "execution_count": null,
   "id": "25838f96-7ea8-4e06-bfc8-fa9c79f02cc7",
   "metadata": {},
   "outputs": [],
   "source": []
  }
 ],
 "metadata": {
  "kernelspec": {
   "display_name": "Python 3 (ipykernel)",
   "language": "python",
   "name": "python3"
  },
  "language_info": {
   "codemirror_mode": {
    "name": "ipython",
    "version": 3
   },
   "file_extension": ".py",
   "mimetype": "text/x-python",
   "name": "python",
   "nbconvert_exporter": "python",
   "pygments_lexer": "ipython3",
   "version": "3.12.1"
  }
 },
 "nbformat": 4,
 "nbformat_minor": 5
}
